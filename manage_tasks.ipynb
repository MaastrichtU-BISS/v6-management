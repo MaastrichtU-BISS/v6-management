{
 "cells": [
  {
   "cell_type": "code",
   "execution_count": null,
   "source": [
    "from vantage6.client import Client"
   ],
   "outputs": [],
   "metadata": {}
  },
  {
   "cell_type": "code",
   "execution_count": null,
   "source": [
    "# authenticate\n",
    "client = Client(\"https://v6.server.net\", 443, \"/api\")\n",
    "client.authenticate(\"root\", \"root\")\n",
    "client.setup_encryption(None)"
   ],
   "outputs": [],
   "metadata": {}
  },
  {
   "cell_type": "code",
   "execution_count": null,
   "source": [
    "# Get the collab on which we're running things\n",
    "collab = client.collaboration.list(scope='global')[0]"
   ],
   "outputs": [],
   "metadata": {}
  },
  {
   "cell_type": "code",
   "execution_count": null,
   "source": [
    "# Submit new task\n",
    "input_ = {\n",
    "    \"master\": \"true\",\n",
    "    \"method\":\"master\", \n",
    "    \"args\": [],\n",
    "    \"kwargs\": {}\n",
    "}\n",
    "\n",
    "task = client.post_task(\n",
    "    name=\"testing\",\n",
    "    image=\"hello-world\",\n",
    "    collaboration_id=collab['id'],\n",
    "    input_= input_,\n",
    "    organization_ids=[org['id'] for org in collab['organizations']]\n",
    ")"
   ],
   "outputs": [],
   "metadata": {}
  },
  {
   "cell_type": "code",
   "execution_count": null,
   "source": [
    "# Check status (of only one of the nodes)\n",
    "res = client.result.get(id_=task.get(\"results\")[0]['id'])\n",
    "res"
   ],
   "outputs": [],
   "metadata": {}
  },
  {
   "cell_type": "code",
   "execution_count": null,
   "source": [
    "# Check all the tasks in the db\n",
    "tasks = client.task.list()\n",
    "for task in tasks:\n",
    "    print(f'Task \"{task[\"name\"]}\" using image {task[\"image\"]} has {\"\" if task[\"complete\"] else \"not \"}completed')"
   ],
   "outputs": [],
   "metadata": {}
  },
  {
   "cell_type": "code",
   "execution_count": null,
   "source": [
    "# Clear the list of tasks (any tasks that cannot be completed will constantly be run otherwise)\n",
    "tasks = client.task.list()\n",
    "for task in tasks:\n",
    "    client.task.delete(id_=task['id'])"
   ],
   "outputs": [],
   "metadata": {}
  }
 ],
 "metadata": {
  "orig_nbformat": 4,
  "language_info": {
   "name": "python",
   "version": "3.9.7",
   "mimetype": "text/x-python",
   "codemirror_mode": {
    "name": "ipython",
    "version": 3
   },
   "pygments_lexer": "ipython3",
   "nbconvert_exporter": "python",
   "file_extension": ".py"
  },
  "kernelspec": {
   "name": "python3",
   "display_name": "Python 3.9.7 64-bit"
  },
  "interpreter": {
   "hash": "c5dc9250279705f42f964bfebef341b6cc29d9b0577656f61b6983bf65a44ab2"
  }
 },
 "nbformat": 4,
 "nbformat_minor": 2
}