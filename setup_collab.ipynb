{
 "cells": [
  {
   "cell_type": "code",
   "execution_count": null,
   "metadata": {},
   "outputs": [],
   "source": [
    "from vantage6.client import Client"
   ]
  },
  {
   "cell_type": "code",
   "execution_count": null,
   "metadata": {},
   "outputs": [],
   "source": [
    "client = Client(\"https://v6.server.net\", 443, \"/api\")\n",
    "client.authenticate(\"root\", \"root\")\n",
    "client.setup_encryption(None)"
   ]
  },
  {
   "cell_type": "code",
   "execution_count": null,
   "metadata": {},
   "outputs": [],
   "source": [
    "# Check what orgs we have\n",
    "all_orgs = client.organization.list()\n",
    "\n",
    "for org in all_orgs:\n",
    "    print(f'{org[\"id\"]}: {org[\"name\"]}')"
   ]
  },
  {
   "cell_type": "code",
   "execution_count": null,
   "metadata": {},
   "outputs": [],
   "source": [
    "# Add all orgs to the collab, filtering a few\n",
    "collab_org_ids = [\n",
    "    org['id'] for org in all_orgs if org['id'] not in [\n",
    "        1\n",
    "    ]\n",
    "]\n",
    "\n",
    "# To confirm:\n",
    "for org in all_orgs:\n",
    "    if org['id'] in collab_org_ids:\n",
    "        print(f'{org[\"id\"]}: {org[\"name\"]}')"
   ]
  },
  {
   "cell_type": "code",
   "execution_count": null,
   "metadata": {},
   "outputs": [],
   "source": [
    "# Create the actual collaboration\n",
    "collab_name = 'collab_1'\n",
    "collab = client.collaboration.create(\n",
    "    name=collab_name,\n",
    "    organizations=collab_org_ids,\n",
    "    encrypted=True\n",
    ")\n",
    "\n",
    "print(collab)"
   ]
  },
  {
   "cell_type": "code",
   "execution_count": null,
   "metadata": {},
   "outputs": [],
   "source": [
    "# Create nodes and get API keys\n",
    "nodes = []\n",
    "\n",
    "for id in collab_org_ids:\n",
    "    new_node = client.node.create(\n",
    "        collaboration=collab['id'],\n",
    "        organization=id\n",
    "    )\n",
    "\n",
    "    print(new_node)\n",
    "    nodes.append(new_node)"
   ]
  },
  {
   "cell_type": "code",
   "execution_count": null,
   "metadata": {},
   "outputs": [],
   "source": [
    "for node in nodes:\n",
    "    org = [org[\"name\"] for org in all_orgs if org['id'] == node['organization']['id']][0]\n",
    "    print(f'{org} - {node[\"api_key\"]}')"
   ]
  }
 ],
 "metadata": {
  "interpreter": {
   "hash": "8781fb59ff8b854c5eaf016ca19ce0b08120a47f7c02a7835ab83fb37e1759f5"
  },
  "kernelspec": {
   "display_name": "Python 3.8.10 64-bit ('.venv': venv)",
   "name": "python3"
  },
  "language_info": {
   "codemirror_mode": {
    "name": "ipython",
    "version": 3
   },
   "file_extension": ".py",
   "mimetype": "text/x-python",
   "name": "python",
   "nbconvert_exporter": "python",
   "pygments_lexer": "ipython3",
   "version": "3.8.10"
  },
  "orig_nbformat": 4
 },
 "nbformat": 4,
 "nbformat_minor": 2
}
