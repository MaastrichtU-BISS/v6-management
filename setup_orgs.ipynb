{
 "cells": [
  {
   "cell_type": "code",
   "execution_count": null,
   "source": [
    "from vantage6.client import Client\n",
    "import yaml"
   ],
   "outputs": [],
   "metadata": {}
  },
  {
   "cell_type": "code",
   "execution_count": null,
   "source": [
    "client = Client(\"https://v6.server.net\", 443, \"/api\")\n",
    "client.authenticate(\"root\", \"root\")\n",
    "client.setup_encryption(None)"
   ],
   "outputs": [],
   "metadata": {}
  },
  {
   "cell_type": "code",
   "execution_count": null,
   "source": [
    "# Check what orgs we already have\n",
    "all_orgs = client.organization.list()\n",
    "\n",
    "for org in all_orgs:\n",
    "    print(f'{org[\"id\"]}: {org[\"name\"]}')"
   ],
   "outputs": [],
   "metadata": {}
  },
  {
   "cell_type": "code",
   "execution_count": null,
   "source": [
    "# Just to hold any orgs we create\n",
    "new_orgs = []"
   ],
   "outputs": [],
   "metadata": {}
  },
  {
   "cell_type": "code",
   "execution_count": null,
   "source": [
    "# Add orgs from a yaml file (YAML needs at the very least a domain and name)\n",
    "with open('orgs.yaml') as f:\n",
    "    org_inputs = yaml.safe_load(f)\n",
    "\n",
    "for org_input in org_inputs:\n",
    "    print(f'Parsing org {org_input[\"name\"]}')\n",
    "    if org_input['domain'].lower() in [org['domain'].lower() for org in all_orgs if org['domain']]:\n",
    "        print('Already have this org on the server, skipping')\n",
    "\n",
    "    new_org = client.organization.create(**org_input)\n",
    "    if new_org:\n",
    "        print(f'New org has id {new_org[\"id\"]}')\n",
    "        new_orgs.append(new_org)\n",
    "\n",
    "print(new_orgs)"
   ],
   "outputs": [],
   "metadata": {}
  },
  {
   "cell_type": "code",
   "execution_count": null,
   "source": [
    "# Manually add an org\n",
    "new_org = client.organization.create(\n",
    "    name=\"\",\n",
    "    address1=\"\",\n",
    "    address2=\"\",\n",
    "    zipcode=\"\",\n",
    "    country=\"\",\n",
    "    domain=\"\"\n",
    ")\n",
    "\n",
    "print(new_org)\n",
    "new_orgs.append(new_org)"
   ],
   "outputs": [],
   "metadata": {}
  },
  {
   "cell_type": "code",
   "execution_count": null,
   "source": [
    "# If you want to add more rules, listing them here:\n",
    "all_rules = client.rule.list()\n",
    "for rule in all_rules:\n",
    "    print(f'{rule[\"id\"]} - {rule[\"operation\"]} {rule[\"name\"]} - {rule[\"scope\"]}')"
   ],
   "outputs": [],
   "metadata": {}
  },
  {
   "cell_type": "code",
   "execution_count": null,
   "source": [
    "# Specify roles for org admins\n",
    "all_rules = client.rule.list()\n",
    "\n",
    "# Can do anything at ORGANIZATION level\n",
    "rules = [rule['id'] for rule in all_rules if rule['scope'] == 'ORGANIZATION']\n",
    "\n",
    "# Remove some rules\n",
    "rules = [\n",
    "    rule for rule in rules if rule not in [\n",
    "        8, # Delete node\n",
    "    ]\n",
    "]"
   ],
   "outputs": [],
   "metadata": {}
  },
  {
   "cell_type": "code",
   "execution_count": null,
   "source": [
    "# Add org admin user for each (we do need one for each to upload private keys, even if they don't intend to use it)\n",
    "# Uses orgname-admin@medicaldataworks.nl as email as at this point we don't want to have to put in contact details\n",
    "# For passwords:\n",
    "import secrets\n",
    "import string\n",
    "import re\n",
    "alphabet = string.ascii_letters + string.digits\n",
    "\n",
    "new_users = []\n",
    "\n",
    "for org in new_orgs:\n",
    "    name = re.sub(r'[^0-9a-zA-Z]+', '-', org[\"name\"].lower())\n",
    "    username = f'{name}-admin'\n",
    "    password = ''.join(secrets.choice(alphabet) for i in range(20))\n",
    "\n",
    "    new_user = client.user.create(\n",
    "        username=username,\n",
    "        firstname='',\n",
    "        lastname='',\n",
    "        password=password,\n",
    "        email=f'{name}-admin@medicaldataworks.nl',\n",
    "        organization=org['id'],\n",
    "        rules = rules\n",
    "    )\n",
    "\n",
    "    if new_user:\n",
    "        # Check that this has actually been assigned to the correct org\n",
    "        if new_user['organization']['id'] != org['id']:\n",
    "            new_user = client.user.update(\n",
    "                id_ = new_user['id'],\n",
    "                organization=org['id']\n",
    "            )\n",
    "            \n",
    "        print(f'{username} - {password}')\n",
    "        new_users.append(new_user)\n",
    "\n",
    "print(new_users)"
   ],
   "outputs": [],
   "metadata": {}
  }
 ],
 "metadata": {
  "orig_nbformat": 4,
  "language_info": {
   "name": "python",
   "version": "3.9.7",
   "mimetype": "text/x-python",
   "codemirror_mode": {
    "name": "ipython",
    "version": 3
   },
   "pygments_lexer": "ipython3",
   "nbconvert_exporter": "python",
   "file_extension": ".py"
  },
  "kernelspec": {
   "name": "python3",
   "display_name": "Python 3.9.7 64-bit"
  },
  "interpreter": {
   "hash": "c5dc9250279705f42f964bfebef341b6cc29d9b0577656f61b6983bf65a44ab2"
  }
 },
 "nbformat": 4,
 "nbformat_minor": 2
}